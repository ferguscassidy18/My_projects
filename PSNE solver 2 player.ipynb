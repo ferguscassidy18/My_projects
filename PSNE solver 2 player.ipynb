def operation_p1(mlist,strategyprof): #main operation performed for player 1, locks p2 in a certain decision and compares p1's payoffs
    for strat_p2 in range(player2_choices):
        check_row_p1(mlist,strategyprof, strat_p2)
    return mlist

def operation_p2 (mlist,strategyprof): #main operation performed, locks p1 in a certain decision and compares p2's payoffs
    for col in range(player1_choices):
        slist = strategyprof[col]
        plist = rpo2[col]
        maxinlist = max(plist)
        find_equiv_stra_in_list(plist,slist,mlist,maxinlist)
    return(mlist)

def create_stratprof(Player1_strategies,Player2_strategies): #creates the strategy profile so that we can state player 1 and 2's strategies in a simpler way
    strategyprof = []
    for strat_p1 in Player1_strategies:
        temp_list = []
        for strat_p2 in Player2_strategies:
            temp_string = '{}{}'.format(strat_p1, strat_p2)
            temp_list.append(temp_string)
        strategyprof.append(temp_list)
    return strategyprof

def shrink(mlist): # gets rid of entries in mlist with less than 2 identical elements and deletes any duplicates
    nlist = set()
    for i in mlist:
        if mlist.count(i)>=2:
            nlist.add(i)
    mlist = list(nlist)
    return mlist

def find_eq_payoff_using_mlist(mlist,strategyprof): # this function finds the index location of a given strategy (e.g. 'mm') in the strategy profile and finds the equivalent location in the rpo1&2 lists, using the same index and produces a list 'payoff_list' which contains the payoffs
    payoff_list = []
    for strategy in mlist:
        index1 = 0
        index2 = 0
        for s_element in strategyprof:
            for l_element in s_element:
                if l_element == strategy:
                    payoff_list.append([rpo1[index1][index2], rpo2[index1][index2]])
                index2+=1
            index2 = 0
            index1 += 1
    return payoff_list

def find_equiv_stra_in_list(plist, slist, mlist, m): #given a max value in the plist this function aims to add the
    counter = 0
    for n in plist: 
        if n == m:
            prof=slist[counter]
            mlist.append(prof)
        counter+=1
    return mlist

def check_row_p1(mlist,strategyprof,strat_p2): #this function checks the columns, holding p2's choice constant
    plist = [] #payoff list
    slist = [] #stategy list
    for strat_ in range(player1_choices):
        plist.append(rpo1[strat_][strat_p2]) #using the same column since p2's choice is held constant
        slist.append(strategyprof[strat_][strat_p2]) #finding the equivalent strategies
    maxinlist = max(plist)
    find_equiv_stra_in_list(plist,slist, mlist, maxinlist)
    return mlist

def solPSNE(rpo1, rpo2,Player1_strategies,Player2_strategies):
    #making the variable 'strategyprof'
    strategyprof = create_stratprof(Player1_strategies, Player2_strategies)
    mlist = []
    #p1
    operation_p1(mlist, strategyprof)
    #p2
    operation_p2(mlist, strategyprof)
    
    #now we shrink the mlist to only contain only elements which originally had duplicates, which is meant to emulate circling the elements of the bimatrix which have two underlines when doing this on paper
    mlist = shrink(mlist)
    #here we find the payoffs associated with these strategies in mlist
    strategy_index_list = find_eq_payoff_using_mlist(mlist,strategyprof)
    if not len(mlist):
        ret_string = 'No PSNE'
    else:
        ret_string = 'PSNE Strategie(s): {}, payoff(s): {}'.format(mlist, strategy_index_list)
    return ret_string

#rpo1 = rows payoff of player 1, plist = players list
mlist=[]
rpo1 = ([3,2],[0,2])
rpo2 = ([1,2],[2,3])
Player1_strat = ['t','b']
Player2_strat = ['l','r']
# alternative method of defining the strategies without function 'create_strategyprof'
# =============================================================================
# strategyprof = (['FF','FD','FS'], ['DF','DD','DS'],['SF','SD','SS'])
# =============================================================================

player1_choices = 2
player2_choices = 2

print(solPSNE(rpo1, rpo2, Player1_strat,Player2_strat))

{
 "cells": [
  {
   "cell_type": "code",
   "execution_count": 1,
   "metadata": {},
   "outputs": [],
   "source": [
    "#rpo1 = rows payoff of player 1\n",
    "rpo1 = ([2,1], [1,2])\n",
    "rpo2 = ([3,1], [1,2])\n",
    "strategyprof = (['we', 'ww'], ['fe', 'fw'])"
   ]
  },
  {
   "cell_type": "code",
   "execution_count": 2,
   "metadata": {},
   "outputs": [],
   "source": [
    "def larger1(a, b, c, d):\n",
    "    e = rpo1[a][b]\n",
    "    f = rpo1[c][d]\n",
    "    if e > f:\n",
    "        list.append(strategyprof[a][b])\n",
    "    elif f > e:\n",
    "        list.append(strategyprof[c][d])\n",
    "    else:\n",
    "        list.append(strategyprof[a][b])\n",
    "        list.append(strategyprof[c][d])"
   ]
  },
  {
   "cell_type": "code",
   "execution_count": 3,
   "metadata": {},
   "outputs": [],
   "source": [
    "def larger2(a, b, c, d):\n",
    "    e = rpo2[a][b]\n",
    "    f = rpo2[c][d]\n",
    "    if e > f: \n",
    "        list.append(strategyprof[a][b])\n",
    "    elif f > e:\n",
    "        list.append(strategyprof[c][d])\n",
    "    else:\n",
    "        list.append(strategyprof[a][b])\n",
    "        list.append(strategyprof[c][d])"
   ]
  },
  {
   "cell_type": "code",
   "execution_count": 4,
   "metadata": {},
   "outputs": [],
   "source": [
    "def shrinklist(list):\n",
    "    for i in list:\n",
    "        if list.count(i)<2:\n",
    "            list.remove(i)\n",
    "    temp = []\n",
    "    for x in list:\n",
    "        if x not in temp:\n",
    "            temp.append(x)\n",
    "\n",
    "    list = temp\n",
    "    print(list)"
   ]
  },
  {
   "cell_type": "code",
   "execution_count": 5,
   "metadata": {},
   "outputs": [],
   "source": [
    "list = []"
   ]
  },
  {
   "cell_type": "code",
   "execution_count": 6,
   "metadata": {},
   "outputs": [],
   "source": [
    "def solPSNE22(rpo1, rpo2):\n",
    "    larger1(0,0,1,0)\n",
    "    larger1(0,1,1,1)\n",
    "    larger2(0,0,0,1)\n",
    "    larger2(1,0,1,1)"
   ]
  },
  {
   "cell_type": "code",
   "execution_count": 7,
   "metadata": {},
   "outputs": [],
   "source": [
    "solPSNE22(rpo1, rpo2)"
   ]
  },
  {
   "cell_type": "code",
   "execution_count": 8,
   "metadata": {},
   "outputs": [
    {
     "name": "stdout",
     "output_type": "stream",
     "text": [
      "['we', 'fw']\n"
     ]
    }
   ],
   "source": [
    "shrinklist(list)"
   ]
  },
  {
   "cell_type": "code",
   "execution_count": null,
   "metadata": {},
   "outputs": [],
   "source": []
  },
  {
   "cell_type": "code",
   "execution_count": null,
   "metadata": {},
   "outputs": [],
   "source": []
  }
 ],
 "metadata": {
  "kernelspec": {
   "display_name": "Python 3",
   "language": "python",
   "name": "python3"
  },
  "language_info": {
   "codemirror_mode": {
    "name": "ipython",
    "version": 3
   },
   "file_extension": ".py",
   "mimetype": "text/x-python",
   "name": "python",
   "nbconvert_exporter": "python",
   "pygments_lexer": "ipython3",
   "version": "3.8.5"
  }
 },
 "nbformat": 4,
 "nbformat_minor": 4
}
